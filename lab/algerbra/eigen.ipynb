{
 "cells": [
  {
   "cell_type": "code",
   "execution_count": 35,
   "metadata": {},
   "outputs": [],
   "source": [
    "import numpy as np\n",
    "import matplotlib.pyplot as plt\n"
   ]
  },
  {
   "cell_type": "code",
   "execution_count": 83,
   "metadata": {},
   "outputs": [],
   "source": [
    "\n",
    "def plot_vector(v1,v2, limit=[-10,10], origin=(0, 0), title=\"Vector Plot\", xlabel=\"X\", ylabel=\"Y\"):\n",
    "    \"\"\"\n",
    "    Plots a 2D vector starting from the origin point (default is (0,0)).\n",
    "\n",
    "    Parameters:\n",
    "    - x, y: Components of the vector.\n",
    "    - origin: The starting point of the vector (default is (0,0)).\n",
    "    - title: The title of the plot (optional).\n",
    "    - xlabel: Label for the x-axis (optional).\n",
    "    - ylabel: Label for the y-axis (optional).\n",
    "    \"\"\"\n",
    "    # Create figure and axis for plotting\n",
    "    fig, ax = plt.subplots()\n",
    "\n",
    "    # Plot the vector using the quiver function\n",
    "    ax.quiver(origin[0], origin[1], v1[0], v1[1], angles='xy', scale_units='xy', scale=1, color='b')\n",
    "    ax.quiver(origin[0], origin[1], v2[0], v2[1], angles='xy', scale_units='xy', scale=1, color='r')\n",
    "\n",
    "    # Set axis limits\n",
    "    ax.set_xlim(limit)\n",
    "    ax.set_ylim(limit)\n",
    "\n",
    "    # Set axis labels and title\n",
    "    plt.xlabel(xlabel)\n",
    "    plt.ylabel(ylabel)\n",
    "    plt.title(title)\n",
    "\n",
    "    # Set equal aspect ratio\n",
    "    ax.set_aspect('equal')\n",
    "\n",
    "    # Set the grid and grid intervals (step size of 1)\n",
    "    # ax.set_xticks(np.arange(-1, 10, 1))\n",
    "    # ax.set_yticks(np.arange(-1, 10, 1))\n",
    "\n",
    "    # Show grid and plot\n",
    "    plt.grid(True)\n",
    "    plt.show()\n"
   ]
  },
  {
   "cell_type": "code",
   "execution_count": 113,
   "metadata": {},
   "outputs": [
    {
     "data": {
      "text/plain": [
       "array([[-2, -3],\n",
       "       [ 1,  1]])"
      ]
     },
     "execution_count": 113,
     "metadata": {},
     "output_type": "execute_result"
    }
   ],
   "source": [
    "A = np.array([[-2,-3],[1,1]])\n",
    "A"
   ]
  },
  {
   "cell_type": "code",
   "execution_count": 114,
   "metadata": {},
   "outputs": [
    {
     "data": {
      "text/plain": [
       "array([-0.5+0.8660254j, -0.5-0.8660254j])"
      ]
     },
     "execution_count": 114,
     "metadata": {},
     "output_type": "execute_result"
    }
   ],
   "source": [
    "eigenvalues, eigenvectors = np.linalg.eig(A)\n",
    "eigenvalues"
   ]
  },
  {
   "cell_type": "code",
   "execution_count": 112,
   "metadata": {},
   "outputs": [
    {
     "data": {
      "text/plain": [
       "array([[ 0.70710678, -0.70710678],\n",
       "       [-0.70710678,  0.70710678]])"
      ]
     },
     "execution_count": 112,
     "metadata": {},
     "output_type": "execute_result"
    }
   ],
   "source": [
    "eigenvectors"
   ]
  },
  {
   "cell_type": "code",
   "execution_count": 109,
   "metadata": {},
   "outputs": [
    {
     "data": {
      "image/png": "[encoded data removed]",
      "text/plain": [
       "<Figure size 640x480 with 1 Axes>"
      ]
     },
     "metadata": {},
     "output_type": "display_data"
    },
    {
     "data": {
      "text/plain": [
       "array([16,  6])"
      ]
     },
     "execution_count": 109,
     "metadata": {},
     "output_type": "execute_result"
    }
   ],
   "source": [
    "v1=[0,2]\n",
    "v2=np.dot(A,v1)\n",
    "plot_vector(v1,v2)\n",
    "v2\n",
    "\n",
    " "
   ]
  },
  {
   "cell_type": "code",
   "execution_count": null,
   "metadata": {},
   "outputs": [],
   "source": []
  },
  {
   "cell_type": "code",
   "execution_count": null,
   "metadata": {},
   "outputs": [],
   "source": []
  }
 ],
 "metadata": {
  "kernelspec": {
   "display_name": "env38",
   "language": "python",
   "name": "python3"
  },
  "language_info": {
   "codemirror_mode": {
    "name": "ipython",
    "version": 3
   },
   "file_extension": ".py",
   "mimetype": "text/x-python",
   "name": "python",
   "nbconvert_exporter": "python",
   "pygments_lexer": "ipython3",
   "version": "3.8.18"
  }
 },
 "nbformat": 4,
 "nbformat_minor": 2
}
