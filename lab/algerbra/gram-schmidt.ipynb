{
 "cells": [
  {
   "cell_type": "code",
   "execution_count": 1,
   "metadata": {},
   "outputs": [],
   "source": [
    "import numpy as np"
   ]
  },
  {
   "cell_type": "code",
   "execution_count": 2,
   "metadata": {},
   "outputs": [],
   "source": [
    "def gram_schmidt(A):\n",
    "    \"\"\"\n",
    "    Perform the Gram-Schmidt process to orthogonalize the columns of matrix A.\n",
    "    \n",
    "    A : ndarray, shape (m, n)\n",
    "        Input matrix whose columns will be orthogonalized.\n",
    "    \n",
    "    Returns:\n",
    "    Q : ndarray, shape (m, n)\n",
    "        Matrix with orthogonal columns (not normalized).\n",
    "    \"\"\"\n",
    "    # Number of vectors (columns) in A\n",
    "    m, n = A.shape\n",
    "    \n",
    "    # Initialize the matrix Q to store orthogonal vectors\n",
    "    Q = np.zeros((m, n))\n",
    "    \n",
    "    # Iterate over each column vector in A\n",
    "    for j in range(n):\n",
    "        # Start with the original vector\n",
    "        v = A[:, j]\n",
    "        \n",
    "        # Subtract projections onto all previous orthogonal vectors\n",
    "        for i in range(j):\n",
    "            # Project v onto Q[:, i]\n",
    "            proj = np.dot(v, Q[:, i]) / np.dot(Q[:, i], Q[:, i]) * Q[:, i]\n",
    "            v = v - proj\n",
    "        \n",
    "        # Store the orthogonalized vector in Q\n",
    "        Q[:, j] = v\n",
    "    \n",
    "    return Q"
   ]
  },
  {
   "cell_type": "code",
   "execution_count": 3,
   "metadata": {},
   "outputs": [],
   "source": [
    "def normalize(Q):\n",
    "    \"\"\"\n",
    "    Normalize the columns of the matrix Q to obtain an orthonormal matrix.\n",
    "    \n",
    "    Q : ndarray\n",
    "        Matrix with orthogonal columns.\n",
    "    \n",
    "    Returns:\n",
    "    Q_normalized : ndarray\n",
    "        Orthonormal matrix.\n",
    "    \"\"\"\n",
    "    # Normalize each column vector in Q\n",
    "    Q_normalized = np.zeros_like(Q)\n",
    "    for i in range(Q.shape[1]):\n",
    "        Q_normalized[:, i] = Q[:, i] / np.linalg.norm(Q[:, i])\n",
    "    \n",
    "    return Q_normalized"
   ]
  },
  {
   "cell_type": "code",
   "execution_count": 6,
   "metadata": {},
   "outputs": [
    {
     "name": "stdout",
     "output_type": "stream",
     "text": [
      "Original matrix A:\n",
      "[[ 1.  1.  1.]\n",
      " [-1.  0.  1.]\n",
      " [ 1.  1.  2.]]\n"
     ]
    }
   ],
   "source": [
    "A = np.array([[1, 1, 1], [-1, 0, 1], [1, 1, 2]], dtype=float)\n",
    "print(\"Original matrix A:\")\n",
    "print(A)"
   ]
  },
  {
   "cell_type": "code",
   "execution_count": 7,
   "metadata": {},
   "outputs": [
    {
     "data": {
      "text/plain": [
       "array([[ 1.        ,  0.33333333, -0.5       ],\n",
       "       [-1.        ,  0.66666667,  0.        ],\n",
       "       [ 1.        ,  0.33333333,  0.5       ]])"
      ]
     },
     "execution_count": 7,
     "metadata": {},
     "output_type": "execute_result"
    }
   ],
   "source": [
    "B = gram_schmidt(A)\n",
    "B"
   ]
  },
  {
   "cell_type": "code",
   "execution_count": 27,
   "metadata": {},
   "outputs": [
    {
     "data": {
      "text/plain": [
       "array([ 1., -1.,  1.])"
      ]
     },
     "execution_count": 27,
     "metadata": {},
     "output_type": "execute_result"
    }
   ],
   "source": [
    "b0 = B[:,0]\n",
    "b0\n"
   ]
  },
  {
   "cell_type": "code",
   "execution_count": 28,
   "metadata": {},
   "outputs": [
    {
     "data": {
      "text/plain": [
       "1.7320508075688772"
      ]
     },
     "execution_count": 28,
     "metadata": {},
     "output_type": "execute_result"
    }
   ],
   "source": [
    "n0 = np.linalg.norm(b0)\n",
    "n0"
   ]
  },
  {
   "cell_type": "code",
   "execution_count": 29,
   "metadata": {},
   "outputs": [],
   "source": [
    "V = np.array([[1,0,2,6],\n",
    "              [0,1,8,2],\n",
    "              [2,8,3,1],\n",
    "              [1,-6,2,3]], dtype=np.float_)"
   ]
  },
  {
   "cell_type": "code",
   "execution_count": 31,
   "metadata": {},
   "outputs": [
    {
     "data": {
      "text/plain": [
       "array([[ 1.        , -1.66666667,  0.39920949,  3.52370252],\n",
       "       [ 0.        ,  1.        ,  7.96047431, -0.13131811],\n",
       "       [ 2.        ,  4.66666667, -0.51778656, -1.05054485],\n",
       "       [ 1.        , -7.66666667,  0.63636364, -1.42261282]])"
      ]
     },
     "execution_count": 31,
     "metadata": {},
     "output_type": "execute_result"
    }
   ],
   "source": [
    "U = gram_schmidt(V)\n",
    "U  \n"
   ]
  },
  {
   "cell_type": "code",
   "execution_count": 55,
   "metadata": {},
   "outputs": [
    {
     "data": {
      "text/plain": [
       "array([[ 11.        , -38.33333333,   3.18181818,  -7.11306409],\n",
       "       [ 18.        ,  23.        ,   5.09090909, -11.38090254],\n",
       "       [  9.        ,  11.        ,  63.56521739,   1.42261282],\n",
       "       [  8.        , -21.33333333, -46.49011858,  -2.057317  ]])"
      ]
     },
     "execution_count": 55,
     "metadata": {},
     "output_type": "execute_result"
    }
   ],
   "source": [
    "I = np.dot(V,U)\n",
    "I"
   ]
  },
  {
   "cell_type": "code",
   "execution_count": 60,
   "metadata": {},
   "outputs": [
    {
     "data": {
      "text/plain": [
       "array([[ 11.        , -38.33333333,   3.18181818,  -7.11306409],\n",
       "       [ 18.        ,  23.        ,   5.09090909, -11.38090254],\n",
       "       [  9.        ,  11.        ,  63.56521739,   1.42261282],\n",
       "       [  8.        , -21.33333333, -46.49011858,  -2.057317  ]])"
      ]
     },
     "execution_count": 60,
     "metadata": {},
     "output_type": "execute_result"
    }
   ],
   "source": [
    "I = V@U\n",
    "I"
   ]
  },
  {
   "cell_type": "code",
   "execution_count": 42,
   "metadata": {},
   "outputs": [
    {
     "data": {
      "text/plain": [
       "array([ 3.52370252, -0.13131811, -1.05054485, -1.42261282])"
      ]
     },
     "execution_count": 42,
     "metadata": {},
     "output_type": "execute_result"
    }
   ],
   "source": [
    "u = U[:,3]\n",
    "u\n"
   ]
  },
  {
   "cell_type": "code",
   "execution_count": 43,
   "metadata": {},
   "outputs": [
    {
     "data": {
      "text/plain": [
       "3.944768129047296"
      ]
     },
     "execution_count": 43,
     "metadata": {},
     "output_type": "execute_result"
    }
   ],
   "source": [
    "n = np.linalg.norm(u)\n",
    "n"
   ]
  },
  {
   "cell_type": "code",
   "execution_count": 44,
   "metadata": {},
   "outputs": [
    {
     "data": {
      "text/plain": [
       "array([ 0.89325973, -0.03328918, -0.26631346, -0.36063281])"
      ]
     },
     "execution_count": 44,
     "metadata": {},
     "output_type": "execute_result"
    }
   ],
   "source": [
    "u/n"
   ]
  }
 ],
 "metadata": {
  "kernelspec": {
   "display_name": "env38",
   "language": "python",
   "name": "python3"
  },
  "language_info": {
   "codemirror_mode": {
    "name": "ipython",
    "version": 3
   },
   "file_extension": ".py",
   "mimetype": "text/x-python",
   "name": "python",
   "nbconvert_exporter": "python",
   "pygments_lexer": "ipython3",
   "version": "3.8.18"
  }
 },
 "nbformat": 4,
 "nbformat_minor": 2
}
