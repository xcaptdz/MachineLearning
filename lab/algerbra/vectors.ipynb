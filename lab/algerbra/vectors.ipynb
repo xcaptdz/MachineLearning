{
 "cells": [
  {
   "cell_type": "code",
   "execution_count": 1,
   "metadata": {},
   "outputs": [],
   "source": [
    "import numpy as np\n",
    "\n"
   ]
  },
  {
   "cell_type": "code",
   "execution_count": 2,
   "metadata": {},
   "outputs": [
    {
     "data": {
      "text/plain": [
       "array([3, 4])"
      ]
     },
     "execution_count": 2,
     "metadata": {},
     "output_type": "execute_result"
    }
   ],
   "source": [
    "v = np.array([3, 4])\n",
    "v"
   ]
  },
  {
   "cell_type": "code",
   "execution_count": 3,
   "metadata": {},
   "outputs": [
    {
     "data": {
      "text/plain": [
       "array([3, 4])"
      ]
     },
     "execution_count": 3,
     "metadata": {},
     "output_type": "execute_result"
    }
   ],
   "source": [
    "v.T"
   ]
  },
  {
   "cell_type": "code",
   "execution_count": 4,
   "metadata": {},
   "outputs": [
    {
     "data": {
      "text/plain": [
       "(array([4, 6]), array([2, 2]))"
      ]
     },
     "execution_count": 4,
     "metadata": {},
     "output_type": "execute_result"
    }
   ],
   "source": [
    "u = np.array([3, 4])\n",
    "v = np.array([1, 2])\n",
    "result_add = u + v\n",
    "result_sub = u - v\n",
    "result_add, result_sub"
   ]
  },
  {
   "cell_type": "code",
   "execution_count": 5,
   "metadata": {},
   "outputs": [
    {
     "data": {
      "text/plain": [
       "array([2, 4])"
      ]
     },
     "execution_count": 5,
     "metadata": {},
     "output_type": "execute_result"
    }
   ],
   "source": [
    "k = 2\n",
    "result_scalar_mult = k * v\n",
    "result_scalar_mult"
   ]
  },
  {
   "cell_type": "code",
   "execution_count": 6,
   "metadata": {},
   "outputs": [
    {
     "data": {
      "text/plain": [
       "array([-3,  6, -3])"
      ]
     },
     "execution_count": 6,
     "metadata": {},
     "output_type": "execute_result"
    }
   ],
   "source": [
    "u = np.array([1, 2, 3])\n",
    "v = np.array([4, 5, 6])\n",
    "cross_product = np.cross(u, v)\n",
    "cross_product"
   ]
  },
  {
   "cell_type": "code",
   "execution_count": 7,
   "metadata": {},
   "outputs": [
    {
     "data": {
      "text/plain": [
       "1"
      ]
     },
     "execution_count": 7,
     "metadata": {},
     "output_type": "execute_result"
    }
   ],
   "source": [
    "r = np.array([3,2])\n",
    "s = np.array([-1,2])\n",
    "p = np.dot(r,s)\n",
    "p\n"
   ]
  },
  {
   "cell_type": "code",
   "execution_count": 8,
   "metadata": {},
   "outputs": [
    {
     "name": "stdout",
     "output_type": "stream",
     "text": [
      "Projection of v onto u: [2.28571429 4.57142857 6.85714286]\n"
     ]
    }
   ],
   "source": [
    "# Vectors\n",
    "u = np.array([1, 2, 3])\n",
    "v = np.array([4, 5, 6])\n",
    "\n",
    "# Dot product\n",
    "dot_product = np.dot(u, v)\n",
    "\n",
    "# Magnitude squared of u\n",
    "magnitude_u_squared = np.dot(u, u)\n",
    "\n",
    "# Projection of v onto u\n",
    "projection = (dot_product / magnitude_u_squared) * u\n",
    "\n",
    "print(\"Projection of v onto u:\", projection)"
   ]
  },
  {
   "cell_type": "code",
   "execution_count": 9,
   "metadata": {},
   "outputs": [
    {
     "name": "stdout",
     "output_type": "stream",
     "text": [
      "Length of the vector: 30.0\n"
     ]
    }
   ],
   "source": [
    "\n",
    "\n",
    "# Define the vector\n",
    "vector = np.array([1,2,3, 4])\n",
    "\n",
    "# Calculate the length (magnitude) of the vector\n",
    "length = np.linalg.norm(vector)\n",
    "\n",
    "print(\"Length of the vector:\", length**2)"
   ]
  },
  {
   "cell_type": "code",
   "execution_count": 10,
   "metadata": {},
   "outputs": [
    {
     "name": "stdout",
     "output_type": "stream",
     "text": [
      "Scalar projection of a onto b: 2.0\n"
     ]
    },
    {
     "data": {
      "text/plain": [
       "(10, 5.0)"
      ]
     },
     "execution_count": 10,
     "metadata": {},
     "output_type": "execute_result"
    }
   ],
   "source": [
    "r = np.array([3, -4, 0])\n",
    "s = np.array([10,5,-6])\n",
    "\n",
    "# Calculate dot product of a and b\n",
    "dot_product = np.dot(r, s)\n",
    "\n",
    "# Calculate the magnitude (length) of vector b\n",
    "magnitude_r = np.linalg.norm(r)\n",
    "\n",
    "# Calculate the scalar projection of a onto b\n",
    "scalar_projection = dot_product / magnitude_r\n",
    "\n",
    "print(\"Scalar projection of a onto b:\", scalar_projection)\n",
    "\n",
    "dot_product , magnitude_r"
   ]
  },
  {
   "cell_type": "code",
   "execution_count": 11,
   "metadata": {},
   "outputs": [
    {
     "name": "stdout",
     "output_type": "stream",
     "text": [
      "The vectors are linearly dependent.\n"
     ]
    }
   ],
   "source": [
    "# Define vectors a and b\n",
    "a = np.array([1, 2, -1])\n",
    "b = np.array([3, -4, 5])\n",
    "c = np.array([1, -8, 7])\n",
    "\n",
    "# Compute the determinant (for 2D vectors)\n",
    "determinant = np.linalg.det(np.array([a, b, c]))\n",
    "\n",
    "if determinant == 0:\n",
    "    print(\"The vectors are linearly dependent.\")\n",
    "else:\n",
    "    print(\"The vectors are linearly independent.\")"
   ]
  }
 ],
 "metadata": {
  "kernelspec": {
   "display_name": "env38",
   "language": "python",
   "name": "python3"
  },
  "language_info": {
   "codemirror_mode": {
    "name": "ipython",
    "version": 3
   },
   "file_extension": ".py",
   "mimetype": "text/x-python",
   "name": "python",
   "nbconvert_exporter": "python",
   "pygments_lexer": "ipython3",
   "version": "3.8.20"
  }
 },
 "nbformat": 4,
 "nbformat_minor": 2
}
